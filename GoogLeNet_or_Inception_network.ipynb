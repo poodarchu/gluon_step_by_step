{
 "cells": [
  {
   "cell_type": "markdown",
   "metadata": {},
   "source": [
    "## 定义 Inception\n",
    "![](/Users/poodar/Downloads/inception_block.svg)"
   ]
  },
  {
   "cell_type": "code",
   "execution_count": 1,
   "metadata": {},
   "outputs": [],
   "source": [
    "# Inception 是一个含有四个并行卷基层的块，其给予 Network in Network 做了很大改进\n",
    "import mxnet as mx\n",
    "from mxnet import gluon\n",
    "from mxnet.gluon import nn\n",
    "from mxnet import nd"
   ]
  },
  {
   "cell_type": "code",
   "execution_count": 2,
   "metadata": {},
   "outputs": [],
   "source": [
    "class Inception(nn.Block):\n",
    "    def __init__(self, n1_1, n2_1, n2_3, n3_1, n3_5, n4_1, **kwargs):\n",
    "        super(Inception, self).__init__(**kwargs)\n",
    "        # path1 1x1 convolution\n",
    "        self.p1_conv_1 = nn.Conv2D(n1_1, kernel_size=1, activation='relu')\n",
    "        # path2 1x1 convolution + 3x3 convolution\n",
    "        self.p2_conv_1 = nn.Conv2D(n2_1, kernel_size=1, activation='relu')\n",
    "        self.p2_conv_3 = nn.Conv2D(n2_3, kernel_size=3, padding=1, activation='relu') # padding = 1 使得输出的长宽和输入一致\n",
    "        # path3 1x1 convolution + 5x5 convolution\n",
    "        self.p3_conv_1 = nn.Conv2D(n3_1, kernel_size=1, activation='relu')\n",
    "        self.p3_conv_5 = nn.Conv2D(n3_5, kernel_size=5, padding=2, activation='relu')\n",
    "        # path4 3x3 MaxPooling  + 1x1 convolution\n",
    "        self.p4_pool_3 = nn.MaxPool2D(pool_size=3, padding=1, strides=1)\n",
    "        self.p4_conv_1 = nn.Conv2D(n4_1, kernel_size=1, activation='relu')\n",
    "\n",
    "    def forward(self, X):\n",
    "        p1 = self.p1_conv_1(X)\n",
    "        p2 = self.p2_conv_3(self.p2_conv_1(X))\n",
    "        p3 = self.p3_conv_5(self.p3_conv_1(X))\n",
    "        p4 = self.p4_conv_1(self.p4_pool_3(X))\n",
    "        return nd.concat(p1, p2, p3, p4, dim=1)"
   ]
  },
  {
   "cell_type": "code",
   "execution_count": 3,
   "metadata": {},
   "outputs": [],
   "source": [
    "# test\n",
    "incp = Inception(64, 96, 128, 16, 32, 32)\n",
    "incp.collect_params().initialize()\n",
    "X = nd.random.uniform(shape=(32, 3, 64, 64))"
   ]
  },
  {
   "cell_type": "code",
   "execution_count": 4,
   "metadata": {},
   "outputs": [
    {
     "data": {
      "text/plain": [
       "(32L, 256L, 64L, 64L)"
      ]
     },
     "execution_count": 4,
     "metadata": {},
     "output_type": "execute_result"
    }
   ],
   "source": [
    "incp(X).shape"
   ]
  },
  {
   "cell_type": "code",
   "execution_count": 5,
   "metadata": {},
   "outputs": [],
   "source": [
    "# GoogLeNet将数个Inception串联在一起。\n",
    "# 注意到原论文里使用了多个输出，为了简化我们这里就使用一个输出。\n",
    "# 为了可以更方便的查看数据在内部的形状变化，我们对每个块使用一个nn.Sequential，然后再把所有这些块连起来。\n",
    "class GoogLeNet(nn.Block):\n",
    "    def __init__(self, num_classes, verbose=False, **kwargs):\n",
    "        super(GoogLeNet, self).__init__(**kwargs)\n",
    "        self.verbose = verbose\n",
    "        with self.name_scope():\n",
    "            # Block 1\n",
    "            b1 = nn.Sequential()\n",
    "            b1.add(\n",
    "                nn.Conv2D(channels=64, kernel_size=7, strides=2, padding=3, activation='relu'),\n",
    "                nn.MaxPool2D(pool_size=3, strides=2)\n",
    "            )\n",
    "            \n",
    "            # Block 2\n",
    "            b2 = nn.Sequential()\n",
    "            b2.add(\n",
    "                nn.Conv2D(64, kernel_size=1),\n",
    "                nn.Conv2D(192, kernel_size=3, padding=1),\n",
    "                nn.MaxPool2D(pool_size=3, strides=2)\n",
    "            )\n",
    "            \n",
    "            # Block 3\n",
    "            b3 = nn.Sequential()\n",
    "            b3.add(\n",
    "                Inception(64, 96, 128, 16, 32, 32),\n",
    "                Inception(128, 128, 192, 32, 64, 64),\n",
    "                nn.MaxPool2D(pool_size=3, strides=2)\n",
    "            )\n",
    "            \n",
    "            # Block 4\n",
    "            b4 = nn.Sequential()\n",
    "            b4.add(\n",
    "                Inception(192, 96, 208, 16, 48, 64),\n",
    "                Inception(160, 112, 224, 24, 64, 64),\n",
    "                Inception(128, 128, 256, 24, 64, 64),\n",
    "                Inception(112, 144, 288, 32, 64, 64),\n",
    "                Inception(256, 160, 320, 32, 128, 128),\n",
    "                nn.MaxPool2D(pool_size=3, strides=2)\n",
    "            )\n",
    "            \n",
    "            # Block 5\n",
    "            b5 = nn.Sequential()\n",
    "            b5.add(\n",
    "                Inception(256, 160, 320, 32, 128, 128),\n",
    "                Inception(384, 192, 384, 48, 128, 128),\n",
    "                nn.AvgPool2D(pool_size=2)\n",
    "            )\n",
    "            \n",
    "            # Block 6\n",
    "            b6 = nn.Sequential()\n",
    "            b6.add(\n",
    "                nn.Flatten(),\n",
    "                nn.Dense(num_classes)\n",
    "            )\n",
    "            \n",
    "            # Chain blocks together\n",
    "            self.net = nn.Sequential()\n",
    "            self.net.add(b1, b2, b3, b4, b5, b6)\n",
    "        \n",
    "    def forward(self, X):\n",
    "        out = X\n",
    "        for i, b in enumerate(self.net):\n",
    "            out = b(out)\n",
    "            if self.verbose:\n",
    "                print(\"Block %d output: %s\" % (i+1, out.shape))\n",
    "        return out"
   ]
  },
  {
   "cell_type": "code",
   "execution_count": 6,
   "metadata": {},
   "outputs": [
    {
     "name": "stdout",
     "output_type": "stream",
     "text": [
      "Block 1 output: (4L, 64L, 23L, 23L)\n",
      "Block 2 output: (4L, 192L, 11L, 11L)\n",
      "Block 3 output: (4L, 448L, 5L, 5L)\n",
      "Block 4 output: (4L, 832L, 2L, 2L)\n",
      "Block 5 output: (4L, 1024L, 1L, 1L)\n",
      "Block 6 output: (4L, 10L)\n"
     ]
    }
   ],
   "source": [
    "# Test\n",
    "net = GoogLeNet(10, verbose=True)\n",
    "net.initialize()\n",
    "\n",
    "X = nd.random.uniform(shape=(4, 3, 96, 96))  # 4 examples, each one contains 3 channels, has width and height 96X96\n",
    "y = net(X)"
   ]
  },
  {
   "cell_type": "code",
   "execution_count": null,
   "metadata": {},
   "outputs": [],
   "source": []
  }
 ],
 "metadata": {
  "kernelspec": {
   "display_name": "Python 2",
   "language": "python",
   "name": "python2"
  },
  "language_info": {
   "codemirror_mode": {
    "name": "ipython",
    "version": 2
   },
   "file_extension": ".py",
   "mimetype": "text/x-python",
   "name": "python",
   "nbconvert_exporter": "python",
   "pygments_lexer": "ipython2",
   "version": "2.7.14"
  }
 },
 "nbformat": 4,
 "nbformat_minor": 2
}
