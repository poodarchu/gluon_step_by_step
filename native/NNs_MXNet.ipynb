{
 "cells": [
  {
   "cell_type": "code",
   "execution_count": 1,
   "metadata": {
    "collapsed": true
   },
   "outputs": [],
   "source": [
    "\"\"\"\n",
    "Reference: Krizhevsky, Alex, Ilya Sutskever, and Geoffrey E. Hinton. \"Imagenet classification with deep convolutional neural networks.\" Advances in neural information processing systems. 2012.\n",
    "\"\"\"\n",
    "import mxnet as mx"
   ]
  },
  {
   "cell_type": "code",
   "execution_count": 1,
   "metadata": {
    "collapsed": true
   },
   "outputs": [],
   "source": [
    "def get_alexnet(num_classes, **kwargs):\n",
    "    input_data = mx.symbol.Variable(\"data\")\n",
    "    \n",
    "    # stage 1\n",
    "    conv1 = mx.symbol.Convolution(name='conv1', data=input_data, kernel=(11,11), stride=(4,4), num_filter=96)\n",
    "    relu1 = mx.symbol.Activation(data=conv1, act_type='relu')\n",
    "    lrn1 = mx.symbol.LRN(data=relu1, alpha=0.0001, beta=0.75, knorm=2, nsize=5)\n",
    "    pool1 =mx.symbol.Pooling(data=lrn1, pool_type='max', kernel=(3,3), stride=(2,2))\n",
    "    \n",
    "    # stage 2\n",
    "    conv2 = mx.symbol.Convolution(name='conv2', data=pool1, kernel=(5,5), pad=(2,2), num_filter=256)\n",
    "    relu2 = mx.symbol.Activation(data=conv2, act_type='relu')\n",
    "    lrn2 = mx.symbol.LRN(data=relu2, alpha=0.0001, beta=0.75, knorm=2, nsize=5)\n",
    "    pool2 = mx.symbol.Pooling(data=lrn2, kernel=(3,3), stride=(2,2), pool_type='max')\n",
    "    \n",
    "    # tage 3\n",
    "    conv3 = mx.symbol.Convolution(name='conv3', data=pool2, kernel=(3,3), pad=(1,1), num_filter=384)\n",
    "    relu3 = mx.symbol.Activation(data=conv3, act_type='relu')\n",
    "    \n",
    "    conv4 = mx.symbol.Convolution(name='conv4', data=relu3, kernel=(3,3), pad=(1,1), num_filter=384)\n",
    "    relu4 = mx.symbol.Activation(data=conv4, act_type='relu')\n",
    "    \n",
    "    conv5 = mx.symbol.Convolution(name='conv5', data=relu4, kernel=(3,3), pad=(1,1), num_filter=256)\n",
    "    relu5 = mx.symbol.Activation(data=conv5, act_type='relu')\n",
    "    pool3 = mx.symbol.Pooling(data=relu5, kernel=(3,3), stride=(2,2), pool_type='max')\n",
    "    \n",
    "    # stage 4\n",
    "    flatten = mx.symbol.Flatten(data=pool3)\n",
    "    fc1 = mx.symbol.FullyConnected(name='fc1', data=flatten, num_hidden=4096)\n",
    "    relu6 = mx.symbol.Activation(data=fc1, act_type='relu')\n",
    "    dropout1 = mx.symbol.Dropout(data=relu6, p=0.5)\n",
    "    \n",
    "    # stage 5\n",
    "    fc2 = mx.symbol.FullyConnected(name='fc2', data=dropout1, num_hidden=4096)\n",
    "    relu7 = mx.symbol.Activation(data=fc2, act_type='relu')\n",
    "    dropout2 = mx.symbol.Dropout(data=relu7, p=0.5)\n",
    "    \n",
    "    # stage 6\n",
    "    fc3 = mx.symbol.FullyConnected(name='fc3', data=dropout2, num_hidden=num_classes)\n",
    "    softmax = mx.symbol.SoftmaxOutput(data=fc3, name='softmax')\n",
    "    \n",
    "    return softmax"
   ]
  },
  {
   "cell_type": "code",
   "execution_count": null,
   "metadata": {
    "collapsed": true
   },
   "outputs": [],
   "source": []
  }
 ],
 "metadata": {
  "kernelspec": {
   "display_name": "Python 2",
   "language": "python",
   "name": "python2"
  },
  "language_info": {
   "codemirror_mode": {
    "name": "ipython",
    "version": 2
   },
   "file_extension": ".py",
   "mimetype": "text/x-python",
   "name": "python",
   "nbconvert_exporter": "python",
   "pygments_lexer": "ipython2",
   "version": "2.7.13"
  }
 },
 "nbformat": 4,
 "nbformat_minor": 2
}
